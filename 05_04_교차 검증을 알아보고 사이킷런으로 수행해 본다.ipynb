{
 "cells": [
  {
   "cell_type": "code",
   "execution_count": 114,
   "metadata": {},
   "outputs": [],
   "source": [
    "import numpy as np\n",
    "import matplotlib.pyplot as plt"
   ]
  },
  {
   "cell_type": "code",
   "execution_count": 115,
   "metadata": {},
   "outputs": [],
   "source": [
    "from sklearn.datasets import load_breast_cancer\n",
    "from sklearn.model_selection import train_test_split\n",
    "cancer = load_breast_cancer()\n",
    "\n",
    "x = cancer.data\n",
    "y = cancer.target\n",
    "\n",
    "x_train_all, x_test, y_train_all, y_test = train_test_split(x, y, stratify=y, \n",
    "                                                           test_size=0.2, random_state=42)"
   ]
  },
  {
   "cell_type": "code",
   "execution_count": 116,
   "metadata": {},
   "outputs": [],
   "source": [
    "class SingleLayer:\n",
    "\n",
    "    def __init__(self, learning_rate=0.1, l1=0, l2=0):\n",
    "        self.w = None\n",
    "        self.b = None\n",
    "        self.losses = []\n",
    "        self.val_losses = []       # 추가 05_02\n",
    "        self.w_history = []        # 추가 05_01\n",
    "        self.lr = learning_rate    # 추가 05_01, 가중치의 업데이트 양을 조절\n",
    "                                   # 손실 함수의 표면을 천천히 이동하며 전역 최솟값을 찾는다.\n",
    "        self.l1 = l1\n",
    "        self.l2 = l2        \n",
    "\n",
    "    def forpass(self, x):\n",
    "        z = np.sum(x * self.w) + self.b\n",
    "        return z\n",
    "\n",
    "    def backprop(self, x, err):\n",
    "        w_grad = x * err\n",
    "        b_grad = 1 * err\n",
    "        return w_grad, b_grad\n",
    "\n",
    "    def activation(self, z):\n",
    "        z = np.clip(z, -100, None)\n",
    "        a = 1 / (1 + np.exp(-z))\n",
    "        return a\n",
    "\n",
    "    def fit(self, x, y, epochs=100, x_val=None, y_val=None):# 검증 세트를 전달받을 수 있도록 매개변수 추가\n",
    "        self.w = np.ones(x.shape[1])\n",
    "        self.b = 0\n",
    "        self.w_history.append(self.w.copy())\n",
    "        np.random.seed(42)\n",
    "        for i in range(epochs):\n",
    "            loss = 0\n",
    "            # 인덱스를 섞는다\n",
    "            indexes = np.random.permutation(np.arange(len(x)))\n",
    "            for i in indexes:                               # 모든 샘플에 대해 반복한다.\n",
    "                z = self.forpass(x[i])                      # 정방향 계산\n",
    "                a = self.activation(z)                      # 활성화 함수 적용\n",
    "                err = -(y[i] - a)                           # 오차 계산\n",
    "                w_grad, b_grad = self.backprop(x[i], err)   # 역방향 계산\n",
    "                w_grad += self.l1 * np.sign(self.w) + self.l2 * self.w\n",
    "                self.w -= self.lr * w_grad                  # 가중치 업데이트(학습률 적용) \n",
    "                self.b -= b_grad                            # 절편 업데이트\n",
    "                # 가중치를 기록한다\n",
    "                self.w_history.append(self.w.copy())\n",
    "                # 안전한 로그 계산을 위해 클리핑한 후 손실을 누적한다.\n",
    "                a = np.clip(a, 1e-10, 1-1e-10)\n",
    "                loss += -(y[i]*np.log(a)+(1-y[i])*np.log(1-a))\n",
    "            # 에포크마다 평균 손실을 저장한다\n",
    "            self.losses.append(loss/len(y) + self.reg_loss())\n",
    "            # 검증 세트에 대한 손실을 계산한다\n",
    "            self.update_val_loss(x_val, y_val)\n",
    "\n",
    "    def predict(self, x):\n",
    "        z = [self.forpass(x_i) for x_i in x]        \n",
    "        return np.array(z) > 0\n",
    "\n",
    "    def score(self, x, y):\n",
    "        return np.mean(self.predict(x) == y)\n",
    "    \n",
    "    # 검증 손실 계산하기\n",
    "    def update_val_loss(self, x_val, y_val):\n",
    "        if x_val is None:\n",
    "            return\n",
    "        val_loss = 0\n",
    "        for i in range(len(x_val)):\n",
    "            z = self.forpass(x_val[i])                       # 정방향 계산\n",
    "            a = self.activation(z)                           # 활성화 함수 적용\n",
    "            a = np.clip(a, 1e-10, 1-1e-10)\n",
    "            val_loss += -(y_val[i]*np.log(a)+(1-y_val[i])*np.log(1-a))    # 손실 함수 \n",
    "        self.val_losses.append(val_loss/len(y_val) + self.reg_loss())\n",
    "        \n",
    "    def reg_loss(self):\n",
    "        return self.l1 * np.sum(np.abs(self.w) + self.l2 / 2 * np.sum(self.w**2))    \n",
    "    "
   ]
  },
  {
   "cell_type": "code",
   "execution_count": null,
   "metadata": {},
   "outputs": [],
   "source": [
    "## k-폴드 교차 검증을 구현한다\n",
    "# 훈련 세트 사용하기"
   ]
  },
  {
   "cell_type": "code",
   "execution_count": 117,
   "metadata": {},
   "outputs": [],
   "source": [
    "validation_scores = []"
   ]
  },
  {
   "cell_type": "code",
   "execution_count": null,
   "metadata": {},
   "outputs": [],
   "source": [
    "# k-폴드 교차 검증 구현"
   ]
  },
  {
   "cell_type": "code",
   "execution_count": 118,
   "metadata": {},
   "outputs": [
    {
     "name": "stdout",
     "output_type": "stream",
     "text": [
      "0.9711111111111113\n"
     ]
    }
   ],
   "source": [
    "k = 10\n",
    "bins = len(x_train_all) // k\n",
    "\n",
    "for i in range(k):\n",
    "    start = i*bins\n",
    "    end = (i+1)*bins\n",
    "    val_fold = x_train_all[start:end]\n",
    "    val_target = y_train_all[start:end]\n",
    "    \n",
    "    train_index = list(range(0, start)) + list(range(end, len(x_train_all)))\n",
    "    train_fold = x_train_all[train_index]\n",
    "    train_target = y_train_all[train_index]\n",
    "    \n",
    "    train_mean = np.mean(train_fold, axis=0)\n",
    "    train_std = np.std(train_fold, axis=0)\n",
    "    train_fold_scaled = (train_fold - train_mean) / train_std\n",
    "    val_fold_scaled = (val_fold - train_mean) / train_std\n",
    "    \n",
    "    lyr = SingleLayer(l2=0.01, l1=0)\n",
    "    lyr.fit(train_fold_scaled, train_target, epochs=50)\n",
    "    score = lyr.score(val_fold_scaled, val_target)\n",
    "    validation_scores.append(score)\n",
    "    \n",
    "print(np.mean(validation_scores))"
   ]
  },
  {
   "cell_type": "code",
   "execution_count": null,
   "metadata": {},
   "outputs": [],
   "source": [
    "## 사이킷런으로 교차 검증을 한다.\n",
    "# cross_validate() 함수로 교차 검증 점수 계산"
   ]
  },
  {
   "cell_type": "code",
   "execution_count": 119,
   "metadata": {},
   "outputs": [
    {
     "name": "stdout",
     "output_type": "stream",
     "text": [
      "0.850096618357488\n"
     ]
    }
   ],
   "source": [
    "from sklearn.linear_model import SGDClassifier\n",
    "from sklearn.model_selection import cross_validate\n",
    "sgd = SGDClassifier(loss='log', penalty='l2', alpha=0.001, random_state=42)\n",
    "scores = cross_validate(sgd, x_train_all, y_train_all, cv=10)\n",
    "print(np.mean(scores['test_score']))"
   ]
  },
  {
   "cell_type": "code",
   "execution_count": null,
   "metadata": {},
   "outputs": [],
   "source": [
    "## 전처리 단계를 포함해서 교차 검증을 수행한다.\n",
    "# Pipeline 클래스 사용 교차 검증 수행"
   ]
  },
  {
   "cell_type": "code",
   "execution_count": 120,
   "metadata": {},
   "outputs": [
    {
     "name": "stdout",
     "output_type": "stream",
     "text": [
      "0.9694202898550724\n"
     ]
    }
   ],
   "source": [
    "from sklearn.pipeline import make_pipeline\n",
    "from sklearn.preprocessing import StandardScaler\n",
    "pipe = make_pipeline(StandardScaler(), sgd)\n",
    "scores = cross_validate(pipe, x_train_all, y_train_all, cv=10, return_train_score=True)\n",
    "print(np.mean(scores['test_score']))"
   ]
  },
  {
   "cell_type": "code",
   "execution_count": 121,
   "metadata": {},
   "outputs": [
    {
     "name": "stdout",
     "output_type": "stream",
     "text": [
      "0.9875478561631581\n"
     ]
    }
   ],
   "source": [
    "print(np.mean(scores['train_score']))"
   ]
  },
  {
   "cell_type": "code",
   "execution_count": null,
   "metadata": {},
   "outputs": [],
   "source": []
  }
 ],
 "metadata": {
  "kernelspec": {
   "display_name": "Python 3",
   "language": "python",
   "name": "python3"
  },
  "language_info": {
   "codemirror_mode": {
    "name": "ipython",
    "version": 3
   },
   "file_extension": ".py",
   "mimetype": "text/x-python",
   "name": "python",
   "nbconvert_exporter": "python",
   "pygments_lexer": "ipython3",
   "version": "3.7.4"
  }
 },
 "nbformat": 4,
 "nbformat_minor": 2
}
