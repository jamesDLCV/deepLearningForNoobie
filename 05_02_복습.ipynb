{
 "cells": [
  {
   "cell_type": "code",
   "execution_count": 236,
   "metadata": {},
   "outputs": [],
   "source": [
    "# 데이터 세트 준비하기"
   ]
  },
  {
   "cell_type": "code",
   "execution_count": 237,
   "metadata": {},
   "outputs": [],
   "source": [
    "import numpy as np\n",
    "import matplotlib.pyplot as plt"
   ]
  },
  {
   "cell_type": "code",
   "execution_count": 238,
   "metadata": {},
   "outputs": [],
   "source": [
    "from sklearn.datasets import load_breast_cancer\n",
    "from sklearn.model_selection import train_test_split\n",
    "cancer = load_breast_cancer()"
   ]
  },
  {
   "cell_type": "code",
   "execution_count": 239,
   "metadata": {},
   "outputs": [],
   "source": [
    "x = cancer.data\n",
    "y = cancer.target"
   ]
  },
  {
   "cell_type": "code",
   "execution_count": 240,
   "metadata": {},
   "outputs": [],
   "source": [
    "x_train_all, x_test, y_train_all, y_test = train_test_split(x, y, stratify=y, \n",
    "                                                           test_size=0.2, random_state=42)"
   ]
  },
  {
   "cell_type": "code",
   "execution_count": 241,
   "metadata": {},
   "outputs": [],
   "source": [
    "# 로지스틱 회귀로 모델 훈련하고 평가하기"
   ]
  },
  {
   "cell_type": "code",
   "execution_count": 242,
   "metadata": {},
   "outputs": [
    {
     "data": {
      "text/plain": [
       "0.8333333333333334"
      ]
     },
     "execution_count": 242,
     "metadata": {},
     "output_type": "execute_result"
    }
   ],
   "source": [
    "from sklearn.linear_model import SGDClassifier\n",
    "sgd = SGDClassifier(loss='log', random_state=42)\n",
    "sgd.fit(x_train_all, y_train_all)\n",
    "sgd.score(x_test, y_test)"
   ]
  },
  {
   "cell_type": "code",
   "execution_count": 243,
   "metadata": {},
   "outputs": [],
   "source": [
    "# 서포트 벡터 머신으로 모델 훈련하고 평가하기"
   ]
  },
  {
   "cell_type": "code",
   "execution_count": 244,
   "metadata": {},
   "outputs": [
    {
     "data": {
      "text/plain": [
       "0.9385964912280702"
      ]
     },
     "execution_count": 244,
     "metadata": {},
     "output_type": "execute_result"
    }
   ],
   "source": [
    "from sklearn.linear_model import SGDClassifier\n",
    "sgd = SGDClassifier(loss='hinge', random_state=42)    # 튜닝\n",
    "sgd.fit(x_train_all, y_train_all)\n",
    "sgd.score(x_test, y_test)"
   ]
  },
  {
   "cell_type": "code",
   "execution_count": 245,
   "metadata": {},
   "outputs": [],
   "source": [
    "# 서포트 벡터 머신으로 모델을 훈련하니까 결과가 좋아졌다. \n",
    "# 이런 것을 모델을 튜닝한다라고 한다. \n",
    "# 하지만 이 모델은 실전에서 좋은 결과를 내지 못할 가능성이 크다. "
   ]
  },
  {
   "cell_type": "code",
   "execution_count": 246,
   "metadata": {},
   "outputs": [],
   "source": [
    "# -> 테스트 세트에 대해서만 좋은 성능을 낼 수 있도록 모델을 튜닝했기 때문이다. "
   ]
  },
  {
   "cell_type": "code",
   "execution_count": 247,
   "metadata": {},
   "outputs": [],
   "source": [
    "## 검증 세트 준비하기"
   ]
  },
  {
   "cell_type": "code",
   "execution_count": 248,
   "metadata": {},
   "outputs": [],
   "source": [
    "# 검증 세트 분할하기"
   ]
  },
  {
   "cell_type": "code",
   "execution_count": 249,
   "metadata": {},
   "outputs": [],
   "source": [
    "x_train, x_val, y_train, y_val = train_test_split(x_train_all, y_train_all, \n",
    "                                                 stratify=y_train_all, test_size=0.2, random_state=42)"
   ]
  },
  {
   "cell_type": "code",
   "execution_count": 250,
   "metadata": {},
   "outputs": [
    {
     "name": "stdout",
     "output_type": "stream",
     "text": [
      "364 91\n"
     ]
    }
   ],
   "source": [
    "print(len(x_train), len(x_val))"
   ]
  },
  {
   "cell_type": "code",
   "execution_count": 251,
   "metadata": {},
   "outputs": [],
   "source": [
    "# 검증 세트 사용해 모델 평가하기"
   ]
  },
  {
   "cell_type": "code",
   "execution_count": 252,
   "metadata": {},
   "outputs": [
    {
     "data": {
      "text/plain": [
       "0.6923076923076923"
      ]
     },
     "execution_count": 252,
     "metadata": {},
     "output_type": "execute_result"
    }
   ],
   "source": [
    "sgd = SGDClassifier(loss='log', random_state=42)\n",
    "sgd.fit(x_train, y_train)\n",
    "sgd.score(x_val, y_val)"
   ]
  },
  {
   "cell_type": "code",
   "execution_count": 253,
   "metadata": {},
   "outputs": [],
   "source": [
    "# 위 점수가 아주 낮게 나왔다. -> 훈련 세트의 크기가 줄어들었기 때문이다."
   ]
  },
  {
   "cell_type": "code",
   "execution_count": 254,
   "metadata": {},
   "outputs": [],
   "source": [
    "## 스케일을 조정하지 않고 모델을 훈련해 보자."
   ]
  },
  {
   "cell_type": "code",
   "execution_count": 255,
   "metadata": {},
   "outputs": [
    {
     "name": "stdout",
     "output_type": "stream",
     "text": [
      "['mean perimeter' 'mean area']\n"
     ]
    },
    {
     "data": {
      "image/png": "[encoded data removed]",
      "text/plain": [
       "<Figure size 432x288 with 1 Axes>"
      ]
     },
     "metadata": {
      "needs_background": "light"
     },
     "output_type": "display_data"
    }
   ],
   "source": [
    "print(cancer.feature_names[[2,3]])\n",
    "plt.boxplot(x_train[:, 2:4])\n",
    "plt.xlabel('feature')\n",
    "plt.ylabel('value')\n",
    "plt.show()"
   ]
  },
  {
   "cell_type": "code",
   "execution_count": 256,
   "metadata": {},
   "outputs": [],
   "source": [
    "class SingleLayer:\n",
    "\n",
    "    def __init__(self, learning_rate=0.1):\n",
    "        self.w = None\n",
    "        self.b = None\n",
    "        self.losses = []\n",
    "        self.val_losses = []       # 추가 05_02\n",
    "        self.w_history = []        # 추가 05_01\n",
    "        self.lr = learning_rate    # 추가 05_01, 가중치의 업데이트 양을 조절\n",
    "                                   # 손실 함수의 표면을 천천히 이동하며 전역 최솟값을 찾는다.\n",
    "\n",
    "    def forpass(self, x):\n",
    "        z = np.sum(x * self.w) + self.b\n",
    "        return z\n",
    "\n",
    "    def backprop(self, x, err):\n",
    "        w_grad = x * err\n",
    "        b_grad = 1 * err\n",
    "        return w_grad, b_grad\n",
    "\n",
    "    def activation(self, z):\n",
    "        z = np.clip(z, -100, None)\n",
    "        a = 1 / (1 + np.exp(-z))\n",
    "        return a\n",
    "\n",
    "    def fit(self, x, y, epochs=100, x_val=None, y_val=None):# 검증 세트를 전달받을 수 있도록 매개변수 추가\n",
    "        self.w = np.ones(x.shape[1])\n",
    "        self.b = 0\n",
    "        self.w_history.append(self.w.copy())\n",
    "        np.random.seed(42)\n",
    "        for i in range(epochs):\n",
    "            loss = 0\n",
    "            # 인덱스를 섞는다\n",
    "            indexes = np.random.permutation(np.arange(len(x)))\n",
    "            for i in indexes:                     # 모든 샘플에 대해 반복한다.\n",
    "                z = self.forpass(x[i])            # 정방향 계산\n",
    "                a = self.activation(z)            # 활성화 함수 적용\n",
    "                err = -(y[i] - a)                 # 오차 계산\n",
    "                w_grad, b_grad = self.backprop(x[i], err)    # 역방향 계산\n",
    "                self.w -= self.lr * w_grad        # 가중치 업데이트(학습률 적용) \n",
    "                self.b -= b_grad                  # 절편 업데이트\n",
    "                # 가중치를 기록한다\n",
    "                self.w_history.append(self.w.copy())\n",
    "                # 안전한 로그 계산을 위해 클리핑한 후 손실을 누적한다.\n",
    "                a = np.clip(a, 1e-10, 1-1e-10)\n",
    "                loss += -(y[i]*np.log(a)+(1-y[i])*np.log(1-a))\n",
    "            # 에포크마다 평균 손실을 저장한다\n",
    "            self.losses.append(loss/len(y))\n",
    "            # 검증 세트에 대한 손실을 계산한다\n",
    "            self.update_val_loss(x_val, y_val)\n",
    "\n",
    "    def predict(self, x):\n",
    "        z = [self.forpass(x_i) for x_i in x]        \n",
    "        return np.array(z) > 0\n",
    "\n",
    "    def score(self, x, y):\n",
    "        return np.mean(self.predict(x) == y)\n",
    "    \n",
    "    # 검증 손실 계산하기\n",
    "    def update_val_loss(self, x_val, y_val):\n",
    "        if x_val is None:\n",
    "            return\n",
    "        val_loss = 0\n",
    "        for i in range(len(x_val)):\n",
    "            z = self.forpass(x_val[i])    # 정방향 계산\n",
    "            a = self.activation(z)        # 활성화 함수 적용\n",
    "            a = np.clip(a, 1e-10, 1-1e-10)\n",
    "            val_loss += -(y_val[i]*np.log(a)+(1-y_val[i])*np.log(1-a))    # 손실 함수 \n",
    "        self.val_losses.append(val_loss/len(y_val))"
   ]
  },
  {
   "cell_type": "code",
   "execution_count": 257,
   "metadata": {},
   "outputs": [],
   "source": [
    "## 스케일을 조정해 모델을 훈련한다. "
   ]
  },
  {
   "cell_type": "code",
   "execution_count": 258,
   "metadata": {},
   "outputs": [],
   "source": [
    "#1. 넘파이로 표준화 구현하기"
   ]
  },
  {
   "cell_type": "code",
   "execution_count": 259,
   "metadata": {},
   "outputs": [],
   "source": [
    "train_mean = np.mean(x_train, axis=0)\n",
    "train_std = np.std(x_train, axis=0)\n",
    "x_train_scaled = (x_train - train_mean) / train_std"
   ]
  },
  {
   "cell_type": "code",
   "execution_count": 260,
   "metadata": {},
   "outputs": [],
   "source": [
    "#2. 모델 훈련하기"
   ]
  },
  {
   "cell_type": "code",
   "execution_count": 261,
   "metadata": {},
   "outputs": [
    {
     "data": {
      "text/plain": [
       "[<matplotlib.lines.Line2D at 0x14ef9cb4a08>]"
      ]
     },
     "execution_count": 261,
     "metadata": {},
     "output_type": "execute_result"
    },
    {
     "data": {
      "image/png": "[encoded data removed]",
      "text/plain": [
       "<Figure size 432x288 with 1 Axes>"
      ]
     },
     "metadata": {
      "needs_background": "light"
     },
     "output_type": "display_data"
    }
   ],
   "source": [
    "layer2 = SingleLayer()\n",
    "layer2.fit(x_train_scaled, y_train)\n",
    "w2 = []\n",
    "w3 = []\n",
    "for w in layer2.w_history:\n",
    "    w2.append(w[2])\n",
    "    w3.append(w[3])\n",
    "plt.plot(w2, w3)\n",
    "plt.plot(w2[-1], w3[-1], 'ro')"
   ]
  },
  {
   "cell_type": "code",
   "execution_count": 262,
   "metadata": {},
   "outputs": [],
   "source": [
    "#3. 모델 성능 평가하기"
   ]
  },
  {
   "cell_type": "code",
   "execution_count": 263,
   "metadata": {},
   "outputs": [
    {
     "data": {
      "text/plain": [
       "0.37362637362637363"
      ]
     },
     "execution_count": 263,
     "metadata": {},
     "output_type": "execute_result"
    }
   ],
   "source": [
    "layer2.score(x_val, y_val)"
   ]
  },
  {
   "cell_type": "code",
   "execution_count": 264,
   "metadata": {},
   "outputs": [],
   "source": [
    "# 위 모델이 성능이 좋지 않은 이유는? 검증 세트의 스케일을 바꾸지 않았기 때문이다. "
   ]
  },
  {
   "cell_type": "code",
   "execution_count": 265,
   "metadata": {},
   "outputs": [
    {
     "data": {
      "text/plain": [
       "0.967032967032967"
      ]
     },
     "execution_count": 265,
     "metadata": {},
     "output_type": "execute_result"
    }
   ],
   "source": [
    "# val_mean = np.mean(x_val, axis=0)                # 검증 세트를 검증 세트의 평균과 표준편차로 \n",
    "# val_std = np.std(x_val, axis=0)                  # -> 전처리하면 안 된다. \n",
    "\n",
    "x_val_scaled = (x_val - train_mean) / train_std    # 검증 세트를 훈련 세트와 같은 비율로 전처리해야 한다.\n",
    "layer2.score(x_val_scaled, y_val)"
   ]
  },
  {
   "cell_type": "code",
   "execution_count": 267,
   "metadata": {},
   "outputs": [],
   "source": [
    "# 모델 훈련하기"
   ]
  },
  {
   "cell_type": "code",
   "execution_count": 268,
   "metadata": {},
   "outputs": [],
   "source": [
    "layer3 = SingleLayer()\n",
    "layer3.fit(x_train_scaled, y_train, x_val=x_val_scaled, y_val=y_val)"
   ]
  },
  {
   "cell_type": "code",
   "execution_count": null,
   "metadata": {},
   "outputs": [],
   "source": [
    "# 손실값으로 그래프 그려 에포크 횟수 지정하기"
   ]
  },
  {
   "cell_type": "code",
   "execution_count": 269,
   "metadata": {},
   "outputs": [
    {
     "data": {
      "image/png": "[encoded data removed]",
      "text/plain": [
       "<Figure size 432x288 with 1 Axes>"
      ]
     },
     "metadata": {
      "needs_background": "light"
     },
     "output_type": "display_data"
    }
   ],
   "source": [
    "plt.ylim(0, 0.3)\n",
    "plt.plot(layer3.losses)\n",
    "plt.plot(layer3.val_losses)\n",
    "plt.ylabel('loss')\n",
    "plt.xlabel('epoch')\n",
    "plt.legend(['train_loss', 'val_loss'])\n",
    "plt.show()"
   ]
  },
  {
   "cell_type": "code",
   "execution_count": 270,
   "metadata": {},
   "outputs": [],
   "source": [
    "# 훈련 조기 종료하기 "
   ]
  },
  {
   "cell_type": "code",
   "execution_count": 275,
   "metadata": {},
   "outputs": [
    {
     "data": {
      "text/plain": [
       "0.978021978021978"
      ]
     },
     "execution_count": 275,
     "metadata": {},
     "output_type": "execute_result"
    }
   ],
   "source": [
    "layer4 = SingleLayer()\n",
    "layer4.fit(x_train_scaled, y_train, epochs=20)\n",
    "layer4.score(x_val_scaled, y_val)"
   ]
  },
  {
   "cell_type": "code",
   "execution_count": 276,
   "metadata": {},
   "outputs": [],
   "source": [
    "# 위 그래프에서 20 정도에서 성능이 더 좋아지지 않는 것 같으므로 epochs을 20으로 했다. \n",
    "# epochs을 30으로 해도 결괏값은 비슷하다. "
   ]
  },
  {
   "cell_type": "code",
   "execution_count": null,
   "metadata": {},
   "outputs": [],
   "source": []
  }
 ],
 "metadata": {
  "kernelspec": {
   "display_name": "Python 3",
   "language": "python",
   "name": "python3"
  },
  "language_info": {
   "codemirror_mode": {
    "name": "ipython",
    "version": 3
   },
   "file_extension": ".py",
   "mimetype": "text/x-python",
   "name": "python",
   "nbconvert_exporter": "python",
   "pygments_lexer": "ipython3",
   "version": "3.7.4"
  }
 },
 "nbformat": 4,
 "nbformat_minor": 2
}
