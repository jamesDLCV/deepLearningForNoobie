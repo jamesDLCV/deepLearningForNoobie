{
  "nbformat": 4,
  "nbformat_minor": 0,
  "metadata": {
    "colab": {
      "name": "diabetes.ipynb",
      "provenance": [],
      "collapsed_sections": [],
      "authorship_tag": "ABX9TyP5/JLT+DtffA5lr6wZ1mUN",
      "include_colab_link": true
    },
    "kernelspec": {
      "name": "python3",
      "display_name": "Python 3"
    }
  },
  "cells": [
    {
      "cell_type": "markdown",
      "metadata": {
        "id": "view-in-github",
        "colab_type": "text"
      },
      "source": [
        "<a href=\"https://colab.research.google.com/github/jamesDLCV/deepLearningNotes/blob/main/03_01_diabetes.ipynb\" target=\"_parent\"><img src=\"https://colab.research.google.com/assets/colab-badge.svg\" alt=\"Open In Colab\"/></a>"
      ]
    },
    {
      "cell_type": "code",
      "metadata": {
        "id": "GmGci-av7pky"
      },
      "source": [
        "from sklearn.datasets import load_diabetes\r\n",
        "diabetes = load_diabetes()"
      ],
      "execution_count": 3,
      "outputs": []
    },
    {
      "cell_type": "code",
      "metadata": {
        "colab": {
          "base_uri": "https://localhost:8080/"
        },
        "id": "2nZDnKb-75kp",
        "outputId": "8d24295a-24d2-4b79-c0eb-84f2dc6bed5b"
      },
      "source": [
        "print(diabetes.data.shape, diabetes.target.shape)"
      ],
      "execution_count": 4,
      "outputs": [
        {
          "output_type": "stream",
          "text": [
            "(442, 10) (442,)\n"
          ],
          "name": "stdout"
        }
      ]
    },
    {
      "cell_type": "code",
      "metadata": {
        "colab": {
          "base_uri": "https://localhost:8080/"
        },
        "id": "H9NUkMZB8rOz",
        "outputId": "5f5e610d-61e7-4935-d829-2729daa23058"
      },
      "source": [
        "diabetes.data[0:3]"
      ],
      "execution_count": 6,
      "outputs": [
        {
          "output_type": "execute_result",
          "data": {
            "text/plain": [
              "array([[ 0.03807591,  0.05068012,  0.06169621,  0.02187235, -0.0442235 ,\n",
              "        -0.03482076, -0.04340085, -0.00259226,  0.01990842, -0.01764613],\n",
              "       [-0.00188202, -0.04464164, -0.05147406, -0.02632783, -0.00844872,\n",
              "        -0.01916334,  0.07441156, -0.03949338, -0.06832974, -0.09220405],\n",
              "       [ 0.08529891,  0.05068012,  0.04445121, -0.00567061, -0.04559945,\n",
              "        -0.03419447, -0.03235593, -0.00259226,  0.00286377, -0.02593034]])"
            ]
          },
          "metadata": {
            "tags": []
          },
          "execution_count": 6
        }
      ]
    },
    {
      "cell_type": "code",
      "metadata": {
        "colab": {
          "base_uri": "https://localhost:8080/"
        },
        "id": "7WaLSsZO93j2",
        "outputId": "522fa528-f633-4bfa-faf0-8605e8006bf4"
      },
      "source": [
        "diabetes.target[:3]"
      ],
      "execution_count": 7,
      "outputs": [
        {
          "output_type": "execute_result",
          "data": {
            "text/plain": [
              "array([151.,  75., 141.])"
            ]
          },
          "metadata": {
            "tags": []
          },
          "execution_count": 7
        }
      ]
    },
    {
      "cell_type": "code",
      "metadata": {
        "id": "fADNaksd-Op7"
      },
      "source": [
        ""
      ],
      "execution_count": null,
      "outputs": []
    },
    {
      "cell_type": "code",
      "metadata": {
        "id": "lM1XkPGn9wzH"
      },
      "source": [
        ""
      ],
      "execution_count": null,
      "outputs": []
    }
  ]
}