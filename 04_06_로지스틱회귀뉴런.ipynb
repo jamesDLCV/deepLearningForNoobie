{
 "cells": [
  {
   "cell_type": "code",
   "execution_count": 21,
   "metadata": {},
   "outputs": [],
   "source": [
    "import numpy as np\n",
    "import matplotlib.pyplot as plt"
   ]
  },
  {
   "cell_type": "code",
   "execution_count": 22,
   "metadata": {},
   "outputs": [],
   "source": [
    "from sklearn.datasets import load_breast_cancer\n",
    "cancer = load_breast_cancer()"
   ]
  },
  {
   "cell_type": "code",
   "execution_count": 23,
   "metadata": {},
   "outputs": [],
   "source": [
    "x = cancer.data\n",
    "y = cancer.target"
   ]
  },
  {
   "cell_type": "code",
   "execution_count": 24,
   "metadata": {},
   "outputs": [],
   "source": [
    "from sklearn.model_selection import train_test_split\n",
    "x_train, x_test, y_train, y_test = train_test_split(x, y, stratify=y, test_size=0.2, random_state=42) "
   ]
  },
  {
   "cell_type": "code",
   "execution_count": 25,
   "metadata": {},
   "outputs": [],
   "source": [
    "class SingleLayer:\n",
    "    \n",
    "    def __init__(self):\n",
    "        self.w = None\n",
    "        self.b = None\n",
    "        self.losses = []\n",
    "        \n",
    "    def forpass(self, x):\n",
    "        z = np.sum(x * self.w) + self.b\n",
    "        return z\n",
    "    \n",
    "    def backprop(self, x, err):\n",
    "        w_grad = x * err\n",
    "        b_grad = 1 * err\n",
    "        return w_grad, b_grad\n",
    "    \n",
    "    def activation(self, z):\n",
    "        z = np.clip(z, -100, None)\n",
    "        a = 1 / (1 + np.exp(-z))\n",
    "        return a\n",
    "    \n",
    "    def fit(self, x, y, epochs=100):\n",
    "        self.w = np.ones(x.shape[1])\n",
    "        self.b = 0\n",
    "        for i in range(epochs):\n",
    "            loss = 0\n",
    "            indexes = np.random.permutation(np.arange(len(x)))\n",
    "            for i in indexes:\n",
    "                z = self.forpass(x[i])\n",
    "                a = self.activation(z)\n",
    "                err = -(y[i] - a)\n",
    "                w_grad, b_grad = self.backprop(x[i], err)\n",
    "                self.w -= w_grad\n",
    "                self.b -= b_grad\n",
    "                a = np.clip(a, 1e-10, 1-1e-10)\n",
    "                loss += -(y[i]*np.log(a)+(1-y[i]*np.log(1-a)))\n",
    "            self.losses.append(loss/len(y))\n",
    "        \n",
    "    def predict(self, x):\n",
    "        z = [self.forpass(x_i) for x_i in x]        \n",
    "        return np.array(z) > 0\n",
    "    \n",
    "    def score(self, x, y):\n",
    "        return np.mean(self.predict(x) == y)"
   ]
  },
  {
   "cell_type": "code",
   "execution_count": 26,
   "metadata": {},
   "outputs": [
    {
     "data": {
      "text/plain": [
       "0.9298245614035088"
      ]
     },
     "execution_count": 26,
     "metadata": {},
     "output_type": "execute_result"
    }
   ],
   "source": [
    "layer = SingleLayer()\n",
    "layer.fit(x_train, y_train)\n",
    "layer.score(x_test, y_test)"
   ]
  },
  {
   "cell_type": "code",
   "execution_count": 27,
   "metadata": {},
   "outputs": [
    {
     "data": {
      "image/png": "[encoded data removed]",
      "text/plain": [
       "<Figure size 432x288 with 1 Axes>"
      ]
     },
     "metadata": {
      "needs_background": "light"
     },
     "output_type": "display_data"
    }
   ],
   "source": [
    "plt.plot(layer.losses)\n",
    "plt.xlabel('epoch')\n",
    "plt.ylabel('loss')\n",
    "plt.show()"
   ]
  },
  {
   "cell_type": "code",
   "execution_count": null,
   "metadata": {},
   "outputs": [],
   "source": []
  },
  {
   "cell_type": "code",
   "execution_count": null,
   "metadata": {},
   "outputs": [],
   "source": []
  }
 ],
 "metadata": {
  "kernelspec": {
   "display_name": "Python 3",
   "language": "python",
   "name": "python3"
  },
  "language_info": {
   "codemirror_mode": {
    "name": "ipython",
    "version": 3
   },
   "file_extension": ".py",
   "mimetype": "text/x-python",
   "name": "python",
   "nbconvert_exporter": "python",
   "pygments_lexer": "ipython3",
   "version": "3.7.4"
  }
 },
 "nbformat": 4,
 "nbformat_minor": 2
}
